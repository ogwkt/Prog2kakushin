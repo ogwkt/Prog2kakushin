{
  "nbformat": 4,
  "nbformat_minor": 0,
  "metadata": {
    "colab": {
      "provenance": [],
      "authorship_tag": "ABX9TyOU25i5xq90SDTkYBgh5nVz",
      "include_colab_link": true
    },
    "kernelspec": {
      "name": "python3",
      "display_name": "Python 3"
    },
    "language_info": {
      "name": "python"
    }
  },
  "cells": [
    {
      "cell_type": "markdown",
      "metadata": {
        "id": "view-in-github",
        "colab_type": "text"
      },
      "source": [
        "<a href=\"https://colab.research.google.com/github/ogwkt/Prog2kakushin/blob/main/work1.ipynb\" target=\"_parent\"><img src=\"https://colab.research.google.com/assets/colab-badge.svg\" alt=\"Open In Colab\"/></a>"
      ]
    },
    {
      "cell_type": "markdown",
      "source": [
        "0～100までの整数をランダムに作成し、その数字を予想して入力する。不正解なら正解するまで数字をランダムに作成し、予想して入力する。\n",
        "正解したら0～100までの数字が何回作成されたか、自分が0～100までの数字をそれぞれ何回入力したかを表にまとめて表示する。"
      ],
      "metadata": {
        "id": "8kxMjt4qvh8U"
      }
    }
  ]
}